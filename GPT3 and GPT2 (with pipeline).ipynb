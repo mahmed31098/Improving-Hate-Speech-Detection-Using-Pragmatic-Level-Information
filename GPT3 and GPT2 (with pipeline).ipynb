{
 "cells": [
  {
   "cell_type": "markdown",
   "id": "b8126bd6",
   "metadata": {},
   "source": [
    "# GPT3"
   ]
  },
  {
   "cell_type": "code",
   "execution_count": 153,
   "id": "2dfea11c",
   "metadata": {},
   "outputs": [],
   "source": [
    "import openai"
   ]
  },
  {
   "cell_type": "code",
   "execution_count": 154,
   "id": "9bb72d39",
   "metadata": {},
   "outputs": [],
   "source": [
    "openai.api_key = 'Your API KEY'"
   ]
  },
  {
   "cell_type": "code",
   "execution_count": 160,
   "id": "3d8c1845",
   "metadata": {},
   "outputs": [
    {
     "name": "stdout",
     "output_type": "stream",
     "text": [
      "Processed tweet 1/3\n",
      "Processed tweet 2/3\n",
      "Processed tweet 3/3\n"
     ]
    }
   ],
   "source": [
    "# Define a function to classify text using GPT-3\n",
    "def classify_text_with_gpt3(text):\n",
    "    try:\n",
    "        prompt = f\"Is the following statement hate speech, offensive, or normal?\\n\\n{text}\"\n",
    "        response = openai.Completion.create(\n",
    "            engine=\"text-davinci-003\", \n",
    "            prompt=prompt, \n",
    "            max_tokens=60\n",
    "        )\n",
    "        return response.choices[0].text.strip()\n",
    "    except Exception as e:\n",
    "        print(f\"An error occurred: {e}\")\n",
    "        return None\n",
    "\n",
    "# Add a new column for the GPT-3 classification\n",
    "df['gpt3_classification'] = None\n",
    "\n",
    "# Iterate over the dataset and classify each text\n",
    "for index, row in df.iterrows():\n",
    "    classification = classify_text_with_gpt3(row['text'])\n",
    "    df.at[index, 'gpt3_classification'] = classification\n",
    "    print(f\"Processed tweet {index + 1}/{len(df)}\")"
   ]
  },
  {
   "cell_type": "code",
   "execution_count": null,
   "id": "6086334a",
   "metadata": {},
   "outputs": [],
   "source": []
  },
  {
   "cell_type": "code",
   "execution_count": null,
   "id": "f728b3c5",
   "metadata": {},
   "outputs": [],
   "source": []
  },
  {
   "cell_type": "markdown",
   "id": "ba4d0b9d",
   "metadata": {},
   "source": [
    "# GPT2 using pipeline for text classification"
   ]
  },
  {
   "cell_type": "code",
   "execution_count": 3,
   "id": "131c9aa6",
   "metadata": {},
   "outputs": [
    {
     "data": {
      "application/vnd.jupyter.widget-view+json": {
       "model_id": "bc848d3ba26845849b3a3e653d8c18aa",
       "version_major": 2,
       "version_minor": 0
      },
      "text/plain": [
       "config.json:   0%|          | 0.00/665 [00:00<?, ?B/s]"
      ]
     },
     "metadata": {},
     "output_type": "display_data"
    },
    {
     "name": "stderr",
     "output_type": "stream",
     "text": [
      "C:\\Users\\Ahmed\\anaconda3\\lib\\site-packages\\huggingface_hub\\file_download.py:147: UserWarning: `huggingface_hub` cache-system uses symlinks by default to efficiently store duplicated files but your machine does not support them in C:\\Users\\Ahmed\\.cache\\huggingface\\hub. Caching files will still work but in a degraded version that might require more space on your disk. This warning can be disabled by setting the `HF_HUB_DISABLE_SYMLINKS_WARNING` environment variable. For more details, see https://huggingface.co/docs/huggingface_hub/how-to-cache#limitations.\n",
      "To support symlinks on Windows, you either need to activate Developer Mode or to run Python as an administrator. In order to see activate developer mode, see this article: https://docs.microsoft.com/en-us/windows/apps/get-started/enable-your-device-for-development\n",
      "  warnings.warn(message)\n"
     ]
    },
    {
     "data": {
      "application/vnd.jupyter.widget-view+json": {
       "model_id": "8d247fd0cfc3470b856bb0115e87f2c9",
       "version_major": 2,
       "version_minor": 0
      },
      "text/plain": [
       "model.safetensors:   0%|          | 0.00/548M [00:00<?, ?B/s]"
      ]
     },
     "metadata": {},
     "output_type": "display_data"
    },
    {
     "data": {
      "application/vnd.jupyter.widget-view+json": {
       "model_id": "fbd01c007f094baab9e025f4613e0700",
       "version_major": 2,
       "version_minor": 0
      },
      "text/plain": [
       "generation_config.json:   0%|          | 0.00/124 [00:00<?, ?B/s]"
      ]
     },
     "metadata": {},
     "output_type": "display_data"
    },
    {
     "data": {
      "application/vnd.jupyter.widget-view+json": {
       "model_id": "cc890d25cd194d328790870c34bf156a",
       "version_major": 2,
       "version_minor": 0
      },
      "text/plain": [
       "vocab.json:   0%|          | 0.00/1.04M [00:00<?, ?B/s]"
      ]
     },
     "metadata": {},
     "output_type": "display_data"
    },
    {
     "data": {
      "application/vnd.jupyter.widget-view+json": {
       "model_id": "17fe4ccd156b4faea6d31c359dca352c",
       "version_major": 2,
       "version_minor": 0
      },
      "text/plain": [
       "merges.txt:   0%|          | 0.00/456k [00:00<?, ?B/s]"
      ]
     },
     "metadata": {},
     "output_type": "display_data"
    },
    {
     "data": {
      "application/vnd.jupyter.widget-view+json": {
       "model_id": "adafed1454aa4009a8701ea254e02e0e",
       "version_major": 2,
       "version_minor": 0
      },
      "text/plain": [
       "tokenizer.json:   0%|          | 0.00/1.36M [00:00<?, ?B/s]"
      ]
     },
     "metadata": {},
     "output_type": "display_data"
    },
    {
     "name": "stderr",
     "output_type": "stream",
     "text": [
      "Setting `pad_token_id` to `eos_token_id`:50256 for open-end generation.\n"
     ]
    },
    {
     "name": "stdout",
     "output_type": "stream",
     "text": [
      "This tweet: 'I can't stand [group] because they are all [negative stereotype].' Classify as:\n",
      "\n",
      "In my mind, an image of someone like that that reflects the majority… This is a hateful stereotype. And this tweet\n"
     ]
    }
   ],
   "source": [
    "from transformers import pipeline\n",
    "\n",
    "# Load a pre-trained model, GPT-2 in this case\n",
    "generator = pipeline(\"text-generation\", model=\"gpt2\")\n",
    "\n",
    "# Example prompt\n",
    "prompt = \"This tweet: 'I can't stand [group] because they are all [negative stereotype].' Classify as:\"\n",
    "\n",
    "# Generate the model's response\n",
    "response = generator(prompt, max_length=50)\n",
    "print(response[0]['generated_text'])\n"
   ]
  },
  {
   "cell_type": "code",
   "execution_count": 21,
   "id": "617a18da",
   "metadata": {},
   "outputs": [
    {
     "name": "stderr",
     "output_type": "stream",
     "text": [
      "Setting `pad_token_id` to `eos_token_id`:50256 for open-end generation.\n",
      "Setting `pad_token_id` to `eos_token_id`:50256 for open-end generation.\n",
      "Setting `pad_token_id` to `eos_token_id`:50256 for open-end generation.\n",
      "C:\\Users\\Ahmed\\anaconda3\\lib\\site-packages\\transformers\\generation\\utils.py:1281: UserWarning: Input length of input_ids is 72, but `max_length` is set to 60. This can lead to unexpected behavior. You should consider increasing `max_new_tokens`.\n",
      "  warnings.warn(\n",
      "Setting `pad_token_id` to `eos_token_id`:50256 for open-end generation.\n",
      "Setting `pad_token_id` to `eos_token_id`:50256 for open-end generation.\n"
     ]
    },
    {
     "data": {
      "text/html": [
       "<div>\n",
       "<style scoped>\n",
       "    .dataframe tbody tr th:only-of-type {\n",
       "        vertical-align: middle;\n",
       "    }\n",
       "\n",
       "    .dataframe tbody tr th {\n",
       "        vertical-align: top;\n",
       "    }\n",
       "\n",
       "    .dataframe thead th {\n",
       "        text-align: right;\n",
       "    }\n",
       "</style>\n",
       "<table border=\"1\" class=\"dataframe\">\n",
       "  <thead>\n",
       "    <tr style=\"text-align: right;\">\n",
       "      <th></th>\n",
       "      <th>text</th>\n",
       "      <th>classification</th>\n",
       "    </tr>\n",
       "  </thead>\n",
       "  <tbody>\n",
       "    <tr>\n",
       "      <th>0</th>\n",
       "      <td>you know maybe doing a challenge where i drink...</td>\n",
       "      <td>'just</td>\n",
       "    </tr>\n",
       "    <tr>\n",
       "      <th>1</th>\n",
       "      <td>rt black transgender woman found dead on chris...</td>\n",
       "      <td>understand</td>\n",
       "    </tr>\n",
       "    <tr>\n",
       "      <th>2</th>\n",
       "      <td>2021 goals playtest and release rumrunners res...</td>\n",
       "      <td>Why</td>\n",
       "    </tr>\n",
       "    <tr>\n",
       "      <th>3</th>\n",
       "      <td>guest co host men like us podcast</td>\n",
       "      <td>#un</td>\n",
       "    </tr>\n",
       "    <tr>\n",
       "      <th>4</th>\n",
       "      <td>congratulations initiative for winning 2020 ni...</td>\n",
       "      <td>(Inappropriate</td>\n",
       "    </tr>\n",
       "  </tbody>\n",
       "</table>\n",
       "</div>"
      ],
      "text/plain": [
       "                                                text  classification\n",
       "0  you know maybe doing a challenge where i drink...           'just\n",
       "1  rt black transgender woman found dead on chris...      understand\n",
       "2  2021 goals playtest and release rumrunners res...             Why\n",
       "3                  guest co host men like us podcast             #un\n",
       "4  congratulations initiative for winning 2020 ni...  (Inappropriate"
      ]
     },
     "execution_count": 21,
     "metadata": {},
     "output_type": "execute_result"
    }
   ],
   "source": [
    "import pandas as pd\n",
    "from transformers import pipeline\n",
    "\n",
    "# Load your dataset\n",
    "# Replace 'path_to_your_dataset.csv' with the path to your dataset file\n",
    "dataset = pd.read_csv('cleaned_dataset_head.csv')\n",
    "\n",
    "# Initialize the text generation pipeline with GPT-2\n",
    "generator = pipeline(\"text-generation\", model=\"gpt2\")\n",
    "\n",
    "# Process each row in your dataset\n",
    "for index, row in dataset.iterrows():\n",
    "    tweet = row['text']  # Replace 'tweet' with the name of your text column\n",
    "\n",
    "    # Construct the prompt\n",
    "    prompt = f\"Classify this tweet: '{tweet}'. Only respond with 0 for Normal, 1 for Offensive, or 2 for Hate. Response:\"\n",
    "\n",
    "    #prompt = f\"Classify this tweet: '{tweet}'. Categories: 0-Normal, 1-Offensive, 2-Hate. Classification:\"\n",
    "\n",
    "    # Generate the model's response\n",
    "    response = generator(prompt, max_length=60)\n",
    "    generated_text = response[0]['generated_text']\n",
    "\n",
    "    # Extract classification from response\n",
    "    # This extraction method is basic and might need to be refined\n",
    "    classification = generated_text.split()[-1].strip()\n",
    "\n",
    "    # Store the classification in the DataFrame\n",
    "    dataset.at[index, 'classification'] = classification\n",
    "\n",
    "\n",
    "dataset\n"
   ]
  }
 ],
 "metadata": {
  "kernelspec": {
   "display_name": "Python 3 (ipykernel)",
   "language": "python",
   "name": "python3"
  },
  "language_info": {
   "codemirror_mode": {
    "name": "ipython",
    "version": 3
   },
   "file_extension": ".py",
   "mimetype": "text/x-python",
   "name": "python",
   "nbconvert_exporter": "python",
   "pygments_lexer": "ipython3",
   "version": "3.9.13"
  }
 },
 "nbformat": 4,
 "nbformat_minor": 5
}
